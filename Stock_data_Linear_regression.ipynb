{
  "nbformat": 4,
  "nbformat_minor": 0,
  "metadata": {
    "colab": {
      "name": "Stock_data_Linear_regression.ipynb",
      "provenance": [],
      "collapsed_sections": [],
      "authorship_tag": "ABX9TyOtJXNVqpyknz7ZIZk57nct",
      "include_colab_link": true
    },
    "kernelspec": {
      "name": "python3",
      "display_name": "Python 3"
    },
    "language_info": {
      "name": "python"
    }
  },
  "cells": [
    {
      "cell_type": "markdown",
      "metadata": {
        "id": "view-in-github",
        "colab_type": "text"
      },
      "source": [
        "<a href=\"https://colab.research.google.com/github/anturex2016/Computetional_intelligence_course/blob/main/Stock_data_Linear_regression.ipynb\" target=\"_parent\"><img src=\"https://colab.research.google.com/assets/colab-badge.svg\" alt=\"Open In Colab\"/></a>"
      ]
    },
    {
      "cell_type": "markdown",
      "metadata": {
        "id": "fXK6qhj76Nx0"
      },
      "source": [
        "**installing chart_studio**"
      ]
    },
    {
      "cell_type": "code",
      "metadata": {
        "colab": {
          "base_uri": "https://localhost:8080/"
        },
        "id": "XO7w1vzk4Vmv",
        "outputId": "51fe8e53-bb51-4e20-8233-af970cd9147a"
      },
      "source": [
        "! pip install chart_studio"
      ],
      "execution_count": 2,
      "outputs": [
        {
          "output_type": "stream",
          "text": [
            "Collecting chart_studio\n",
            "\u001b[?25l  Downloading https://files.pythonhosted.org/packages/ca/ce/330794a6b6ca4b9182c38fc69dd2a9cbff60fd49421cb8648ee5fee352dc/chart_studio-1.1.0-py3-none-any.whl (64kB)\n",
            "\r\u001b[K     |█████                           | 10kB 14.5MB/s eta 0:00:01\r\u001b[K     |██████████▏                     | 20kB 20.2MB/s eta 0:00:01\r\u001b[K     |███████████████▎                | 30kB 18.3MB/s eta 0:00:01\r\u001b[K     |████████████████████▍           | 40kB 16.1MB/s eta 0:00:01\r\u001b[K     |█████████████████████████▍      | 51kB 8.8MB/s eta 0:00:01\r\u001b[K     |██████████████████████████████▌ | 61kB 9.8MB/s eta 0:00:01\r\u001b[K     |████████████████████████████████| 71kB 4.9MB/s \n",
            "\u001b[?25hRequirement already satisfied: retrying>=1.3.3 in /usr/local/lib/python3.7/dist-packages (from chart_studio) (1.3.3)\n",
            "Requirement already satisfied: requests in /usr/local/lib/python3.7/dist-packages (from chart_studio) (2.23.0)\n",
            "Requirement already satisfied: plotly in /usr/local/lib/python3.7/dist-packages (from chart_studio) (4.4.1)\n",
            "Requirement already satisfied: six in /usr/local/lib/python3.7/dist-packages (from chart_studio) (1.15.0)\n",
            "Requirement already satisfied: idna<3,>=2.5 in /usr/local/lib/python3.7/dist-packages (from requests->chart_studio) (2.10)\n",
            "Requirement already satisfied: certifi>=2017.4.17 in /usr/local/lib/python3.7/dist-packages (from requests->chart_studio) (2020.12.5)\n",
            "Requirement already satisfied: urllib3!=1.25.0,!=1.25.1,<1.26,>=1.21.1 in /usr/local/lib/python3.7/dist-packages (from requests->chart_studio) (1.24.3)\n",
            "Requirement already satisfied: chardet<4,>=3.0.2 in /usr/local/lib/python3.7/dist-packages (from requests->chart_studio) (3.0.4)\n",
            "Installing collected packages: chart-studio\n",
            "Successfully installed chart-studio-1.1.0\n"
          ],
          "name": "stdout"
        }
      ]
    },
    {
      "cell_type": "code",
      "metadata": {
        "colab": {
          "base_uri": "https://localhost:8080/"
        },
        "id": "hKucLFmdkRmB",
        "outputId": "44ef350f-6682-427f-e00c-a1c8f5d4735f"
      },
      "source": [
        "! git clone https://github.com/anturex2016/Computetional_intelligence_course"
      ],
      "execution_count": 1,
      "outputs": [
        {
          "output_type": "stream",
          "text": [
            "Cloning into 'Computetional_intelligence_course'...\n",
            "remote: Enumerating objects: 21, done.\u001b[K\n",
            "remote: Counting objects: 100% (21/21), done.\u001b[K\n",
            "remote: Compressing objects: 100% (20/20), done.\u001b[K\n",
            "remote: Total 21 (delta 8), reused 5 (delta 0), pack-reused 0\u001b[K\n",
            "Unpacking objects: 100% (21/21), done.\n"
          ],
          "name": "stdout"
        }
      ]
    },
    {
      "cell_type": "markdown",
      "metadata": {
        "id": "zN0YA9oa6bpo"
      },
      "source": [
        "**Input library**"
      ]
    },
    {
      "cell_type": "code",
      "metadata": {
        "id": "nFVq_3sbyj15"
      },
      "source": [
        "import pandas as pd\n",
        "import numpy as np\n",
        "import matplotlib.pyplot as plt\n",
        "%matplotlib inline\n",
        "\n",
        "import chart_studio.plotly as py\n",
        "import plotly.graph_objs as go\n",
        "\n"
      ],
      "execution_count": 5,
      "outputs": []
    },
    {
      "cell_type": "code",
      "metadata": {
        "colab": {
          "base_uri": "https://localhost:8080/"
        },
        "id": "vkzAoCrt5Z5O",
        "outputId": "20af3935-0340-4620-ff1c-344b95eaa675"
      },
      "source": [
        "#from google.colab import drive\n",
        "#drive.mount('/content/drive')"
      ],
      "execution_count": null,
      "outputs": [
        {
          "output_type": "stream",
          "text": [
            "Drive already mounted at /content/drive; to attempt to forcibly remount, call drive.mount(\"/content/drive\", force_remount=True).\n"
          ],
          "name": "stdout"
        }
      ]
    },
    {
      "cell_type": "code",
      "metadata": {
        "colab": {
          "base_uri": "https://localhost:8080/",
          "height": 204
        },
        "id": "oWJ9BWs66PfB",
        "outputId": "7ca9157d-0631-4281-f63a-d53c842140dc"
      },
      "source": [
        "df=pd.read_csv('Computetional_intelligence_course/TSLA.csv')\n",
        "df.head()\n"
      ],
      "execution_count": 6,
      "outputs": [
        {
          "output_type": "execute_result",
          "data": {
            "text/html": [
              "<div>\n",
              "<style scoped>\n",
              "    .dataframe tbody tr th:only-of-type {\n",
              "        vertical-align: middle;\n",
              "    }\n",
              "\n",
              "    .dataframe tbody tr th {\n",
              "        vertical-align: top;\n",
              "    }\n",
              "\n",
              "    .dataframe thead th {\n",
              "        text-align: right;\n",
              "    }\n",
              "</style>\n",
              "<table border=\"1\" class=\"dataframe\">\n",
              "  <thead>\n",
              "    <tr style=\"text-align: right;\">\n",
              "      <th></th>\n",
              "      <th>Date</th>\n",
              "      <th>Open</th>\n",
              "      <th>High</th>\n",
              "      <th>Low</th>\n",
              "      <th>Close</th>\n",
              "      <th>Adj Close</th>\n",
              "      <th>Volume</th>\n",
              "    </tr>\n",
              "  </thead>\n",
              "  <tbody>\n",
              "    <tr>\n",
              "      <th>0</th>\n",
              "      <td>2011-01-03</td>\n",
              "      <td>5.368</td>\n",
              "      <td>5.400</td>\n",
              "      <td>5.180</td>\n",
              "      <td>5.324</td>\n",
              "      <td>5.324</td>\n",
              "      <td>6415000</td>\n",
              "    </tr>\n",
              "    <tr>\n",
              "      <th>1</th>\n",
              "      <td>2011-01-04</td>\n",
              "      <td>5.332</td>\n",
              "      <td>5.390</td>\n",
              "      <td>5.204</td>\n",
              "      <td>5.334</td>\n",
              "      <td>5.334</td>\n",
              "      <td>5937000</td>\n",
              "    </tr>\n",
              "    <tr>\n",
              "      <th>2</th>\n",
              "      <td>2011-01-05</td>\n",
              "      <td>5.296</td>\n",
              "      <td>5.380</td>\n",
              "      <td>5.238</td>\n",
              "      <td>5.366</td>\n",
              "      <td>5.366</td>\n",
              "      <td>7233500</td>\n",
              "    </tr>\n",
              "    <tr>\n",
              "      <th>3</th>\n",
              "      <td>2011-01-06</td>\n",
              "      <td>5.366</td>\n",
              "      <td>5.600</td>\n",
              "      <td>5.362</td>\n",
              "      <td>5.576</td>\n",
              "      <td>5.576</td>\n",
              "      <td>10306000</td>\n",
              "    </tr>\n",
              "    <tr>\n",
              "      <th>4</th>\n",
              "      <td>2011-01-07</td>\n",
              "      <td>5.600</td>\n",
              "      <td>5.716</td>\n",
              "      <td>5.580</td>\n",
              "      <td>5.648</td>\n",
              "      <td>5.648</td>\n",
              "      <td>11239500</td>\n",
              "    </tr>\n",
              "  </tbody>\n",
              "</table>\n",
              "</div>"
            ],
            "text/plain": [
              "         Date   Open   High    Low  Close  Adj Close    Volume\n",
              "0  2011-01-03  5.368  5.400  5.180  5.324      5.324   6415000\n",
              "1  2011-01-04  5.332  5.390  5.204  5.334      5.334   5937000\n",
              "2  2011-01-05  5.296  5.380  5.238  5.366      5.366   7233500\n",
              "3  2011-01-06  5.366  5.600  5.362  5.576      5.576  10306000\n",
              "4  2011-01-07  5.600  5.716  5.580  5.648      5.648  11239500"
            ]
          },
          "metadata": {
            "tags": []
          },
          "execution_count": 6
        }
      ]
    },
    {
      "cell_type": "code",
      "metadata": {
        "colab": {
          "base_uri": "https://localhost:8080/"
        },
        "id": "WRKJArRt7YXm",
        "outputId": "964a84e9-77a7-4332-fa72-16c0fe89eeaa"
      },
      "source": [
        "df.info()"
      ],
      "execution_count": null,
      "outputs": [
        {
          "output_type": "stream",
          "text": [
            "<class 'pandas.core.frame.DataFrame'>\n",
            "RangeIndex: 2555 entries, 0 to 2554\n",
            "Data columns (total 7 columns):\n",
            " #   Column     Non-Null Count  Dtype  \n",
            "---  ------     --------------  -----  \n",
            " 0   Date       2555 non-null   object \n",
            " 1   Open       2555 non-null   float64\n",
            " 2   High       2555 non-null   float64\n",
            " 3   Low        2555 non-null   float64\n",
            " 4   Close      2555 non-null   float64\n",
            " 5   Adj Close  2555 non-null   float64\n",
            " 6   Volume     2555 non-null   int64  \n",
            "dtypes: float64(5), int64(1), object(1)\n",
            "memory usage: 139.9+ KB\n"
          ],
          "name": "stdout"
        }
      ]
    },
    {
      "cell_type": "code",
      "metadata": {
        "id": "ts0mvxTo7vsI"
      },
      "source": [
        "df['Date']=pd.to_datetime(df['Date'])"
      ],
      "execution_count": null,
      "outputs": []
    },
    {
      "cell_type": "code",
      "metadata": {
        "colab": {
          "base_uri": "https://localhost:8080/"
        },
        "id": "JCleeg7f8dzJ",
        "outputId": "b8079317-84d6-4432-aab7-64462aaa65c7"
      },
      "source": [
        "print(f'Stock price date between {df.Date.min()} to {df.Date.max()}')\n",
        "print(f'Total days ={(df.Date.max()- df.Date.min()).days} days')"
      ],
      "execution_count": null,
      "outputs": [
        {
          "output_type": "stream",
          "text": [
            "Stock price date between 2011-01-03 00:00:00 to 2021-02-26 00:00:00\n",
            "Total days =3707 days\n"
          ],
          "name": "stdout"
        }
      ]
    },
    {
      "cell_type": "code",
      "metadata": {
        "colab": {
          "base_uri": "https://localhost:8080/",
          "height": 297
        },
        "id": "F2_4IYJ4-YBV",
        "outputId": "1cd54892-64c4-4b3d-fa4c-bad4d78cd421"
      },
      "source": [
        "df.describe()"
      ],
      "execution_count": null,
      "outputs": [
        {
          "output_type": "execute_result",
          "data": {
            "text/html": [
              "<div>\n",
              "<style scoped>\n",
              "    .dataframe tbody tr th:only-of-type {\n",
              "        vertical-align: middle;\n",
              "    }\n",
              "\n",
              "    .dataframe tbody tr th {\n",
              "        vertical-align: top;\n",
              "    }\n",
              "\n",
              "    .dataframe thead th {\n",
              "        text-align: right;\n",
              "    }\n",
              "</style>\n",
              "<table border=\"1\" class=\"dataframe\">\n",
              "  <thead>\n",
              "    <tr style=\"text-align: right;\">\n",
              "      <th></th>\n",
              "      <th>Open</th>\n",
              "      <th>High</th>\n",
              "      <th>Low</th>\n",
              "      <th>Close</th>\n",
              "      <th>Adj Close</th>\n",
              "      <th>Volume</th>\n",
              "    </tr>\n",
              "  </thead>\n",
              "  <tbody>\n",
              "    <tr>\n",
              "      <th>count</th>\n",
              "      <td>2555.000000</td>\n",
              "      <td>2555.000000</td>\n",
              "      <td>2555.000000</td>\n",
              "      <td>2555.000000</td>\n",
              "      <td>2555.000000</td>\n",
              "      <td>2.555000e+03</td>\n",
              "    </tr>\n",
              "    <tr>\n",
              "      <th>mean</th>\n",
              "      <td>74.786992</td>\n",
              "      <td>76.428478</td>\n",
              "      <td>73.047134</td>\n",
              "      <td>74.870499</td>\n",
              "      <td>74.870499</td>\n",
              "      <td>3.299649e+07</td>\n",
              "    </tr>\n",
              "    <tr>\n",
              "      <th>std</th>\n",
              "      <td>130.652865</td>\n",
              "      <td>133.740159</td>\n",
              "      <td>127.228990</td>\n",
              "      <td>130.900431</td>\n",
              "      <td>130.900431</td>\n",
              "      <td>2.919566e+07</td>\n",
              "    </tr>\n",
              "    <tr>\n",
              "      <th>min</th>\n",
              "      <td>4.356000</td>\n",
              "      <td>4.454000</td>\n",
              "      <td>4.222000</td>\n",
              "      <td>4.366000</td>\n",
              "      <td>4.366000</td>\n",
              "      <td>1.198000e+06</td>\n",
              "    </tr>\n",
              "    <tr>\n",
              "      <th>25%</th>\n",
              "      <td>24.295000</td>\n",
              "      <td>24.954000</td>\n",
              "      <td>23.874000</td>\n",
              "      <td>24.319001</td>\n",
              "      <td>24.319001</td>\n",
              "      <td>1.373600e+07</td>\n",
              "    </tr>\n",
              "    <tr>\n",
              "      <th>50%</th>\n",
              "      <td>45.734001</td>\n",
              "      <td>46.341999</td>\n",
              "      <td>44.924000</td>\n",
              "      <td>45.666000</td>\n",
              "      <td>45.666000</td>\n",
              "      <td>2.597050e+07</td>\n",
              "    </tr>\n",
              "    <tr>\n",
              "      <th>75%</th>\n",
              "      <td>62.567001</td>\n",
              "      <td>63.395001</td>\n",
              "      <td>61.295000</td>\n",
              "      <td>62.460001</td>\n",
              "      <td>62.460001</td>\n",
              "      <td>4.209815e+07</td>\n",
              "    </tr>\n",
              "    <tr>\n",
              "      <th>max</th>\n",
              "      <td>891.380005</td>\n",
              "      <td>900.400024</td>\n",
              "      <td>871.599976</td>\n",
              "      <td>883.090027</td>\n",
              "      <td>883.090027</td>\n",
              "      <td>3.046940e+08</td>\n",
              "    </tr>\n",
              "  </tbody>\n",
              "</table>\n",
              "</div>"
            ],
            "text/plain": [
              "              Open         High  ...    Adj Close        Volume\n",
              "count  2555.000000  2555.000000  ...  2555.000000  2.555000e+03\n",
              "mean     74.786992    76.428478  ...    74.870499  3.299649e+07\n",
              "std     130.652865   133.740159  ...   130.900431  2.919566e+07\n",
              "min       4.356000     4.454000  ...     4.366000  1.198000e+06\n",
              "25%      24.295000    24.954000  ...    24.319001  1.373600e+07\n",
              "50%      45.734001    46.341999  ...    45.666000  2.597050e+07\n",
              "75%      62.567001    63.395001  ...    62.460001  4.209815e+07\n",
              "max     891.380005   900.400024  ...   883.090027  3.046940e+08\n",
              "\n",
              "[8 rows x 6 columns]"
            ]
          },
          "metadata": {
            "tags": []
          },
          "execution_count": 76
        }
      ]
    },
    {
      "cell_type": "markdown",
      "metadata": {
        "id": "J4xRC2Hd5_Ui"
      },
      "source": [
        "**Figure of stock price**"
      ]
    },
    {
      "cell_type": "code",
      "metadata": {
        "colab": {
          "base_uri": "https://localhost:8080/",
          "height": 513
        },
        "id": "I4NN4GQabwpM",
        "outputId": "86ec15ca-4a79-4893-fa09-ba600c85efe9"
      },
      "source": [
        "plt.figure(figsize=(16,8))\n",
        "plt.title('Stock price')\n",
        "plt.xlabel('days')\n",
        "plt.ylabel('close price')\n",
        "plt.plot(df['Close'])\n",
        "plt.show()"
      ],
      "execution_count": null,
      "outputs": [
        {
          "output_type": "display_data",
          "data": {
            "image/png": "[encoded data removed]",
            "text/plain": [
              "<Figure size 1152x576 with 1 Axes>"
            ]
          },
          "metadata": {
            "tags": [],
            "needs_background": "light"
          }
        }
      ]
    },
    {
      "cell_type": "markdown",
      "metadata": {
        "id": "_M0Dtcp55vNO"
      },
      "source": [
        "**Training and Test Data**"
      ]
    },
    {
      "cell_type": "code",
      "metadata": {
        "colab": {
          "base_uri": "https://localhost:8080/"
        },
        "id": "J6etFtMBcFNA",
        "outputId": "816e21cc-a60e-410e-faae-9281ef4d7cd1"
      },
      "source": [
        "from sklearn.model_selection import train_test_split\n",
        "from sklearn.preprocessing import  StandardScaler\n",
        "x= df[['High','Open','Low','Volume']].values\n",
        "y= df['Close'].values\n",
        "xtrain, xtest,ytrain,ytest=train_test_split(x,y, test_size = 0.2, random_state=0)\n",
        "print(f\"Rows in train set:{len(xtrain)} \\nRows in test set:{len(xtest)}\")"
      ],
      "execution_count": null,
      "outputs": [
        {
          "output_type": "stream",
          "text": [
            "Rows in train set:2044 \n",
            "Rows in test set:511\n"
          ],
          "name": "stdout"
        }
      ]
    },
    {
      "cell_type": "markdown",
      "metadata": {
        "id": "5Tul86yn5nXo"
      },
      "source": [
        "**Feature Scalling**"
      ]
    },
    {
      "cell_type": "code",
      "metadata": {
        "id": "RVbNzatZec2y"
      },
      "source": [
        "scaler=StandardScaler().fit(xtrain)"
      ],
      "execution_count": null,
      "outputs": []
    },
    {
      "cell_type": "markdown",
      "metadata": {
        "id": "tB-_DsuOb7-g"
      },
      "source": [
        "**model building**"
      ]
    },
    {
      "cell_type": "markdown",
      "metadata": {
        "id": "3CcMCT0vb7qJ"
      },
      "source": [
        ""
      ]
    },
    {
      "cell_type": "markdown",
      "metadata": {
        "id": "tmavrB1Z5hdj"
      },
      "source": [
        "**Linear** **Regression**"
      ]
    },
    {
      "cell_type": "code",
      "metadata": {
        "colab": {
          "base_uri": "https://localhost:8080/"
        },
        "id": "emRXKQPl6MnP",
        "outputId": "cd3346cd-582d-47b1-94ac-c49da12dff0b"
      },
      "source": [
        "from sklearn.linear_model import LinearRegression\n",
        "model = LinearRegression()\n",
        "model.fit(xtrain, ytrain)"
      ],
      "execution_count": null,
      "outputs": [
        {
          "output_type": "execute_result",
          "data": {
            "text/plain": [
              "LinearRegression(copy_X=True, fit_intercept=True, n_jobs=None, normalize=False)"
            ]
          },
          "metadata": {
            "tags": []
          },
          "execution_count": 80
        }
      ]
    },
    {
      "cell_type": "code",
      "metadata": {
        "colab": {
          "base_uri": "https://localhost:8080/",
          "height": 204
        },
        "id": "_NJT3I7J6aUZ",
        "outputId": "160cbc30-60c7-49f1-f8ef-7cd30432d46e"
      },
      "source": [
        "ypred=model.predict(xtest)\n",
        "prediction=pd.DataFrame({'original value ': ytest.flatten(),'Predicted value' : ypred.flatten()})\n",
        "prediction.head()"
      ],
      "execution_count": null,
      "outputs": [
        {
          "output_type": "execute_result",
          "data": {
            "text/html": [
              "<div>\n",
              "<style scoped>\n",
              "    .dataframe tbody tr th:only-of-type {\n",
              "        vertical-align: middle;\n",
              "    }\n",
              "\n",
              "    .dataframe tbody tr th {\n",
              "        vertical-align: top;\n",
              "    }\n",
              "\n",
              "    .dataframe thead th {\n",
              "        text-align: right;\n",
              "    }\n",
              "</style>\n",
              "<table border=\"1\" class=\"dataframe\">\n",
              "  <thead>\n",
              "    <tr style=\"text-align: right;\">\n",
              "      <th></th>\n",
              "      <th>original value</th>\n",
              "      <th>Predicted value</th>\n",
              "    </tr>\n",
              "  </thead>\n",
              "  <tbody>\n",
              "    <tr>\n",
              "      <th>0</th>\n",
              "      <td>51.950001</td>\n",
              "      <td>51.964677</td>\n",
              "    </tr>\n",
              "    <tr>\n",
              "      <th>1</th>\n",
              "      <td>126.846001</td>\n",
              "      <td>126.467679</td>\n",
              "    </tr>\n",
              "    <tr>\n",
              "      <th>2</th>\n",
              "      <td>66.737999</td>\n",
              "      <td>66.313705</td>\n",
              "    </tr>\n",
              "    <tr>\n",
              "      <th>3</th>\n",
              "      <td>43.549999</td>\n",
              "      <td>43.270359</td>\n",
              "    </tr>\n",
              "    <tr>\n",
              "      <th>4</th>\n",
              "      <td>20.298000</td>\n",
              "      <td>20.289309</td>\n",
              "    </tr>\n",
              "  </tbody>\n",
              "</table>\n",
              "</div>"
            ],
            "text/plain": [
              "   original value   Predicted value\n",
              "0        51.950001        51.964677\n",
              "1       126.846001       126.467679\n",
              "2        66.737999        66.313705\n",
              "3        43.549999        43.270359\n",
              "4        20.298000        20.289309"
            ]
          },
          "metadata": {
            "tags": []
          },
          "execution_count": 81
        }
      ]
    },
    {
      "cell_type": "code",
      "metadata": {
        "id": "JGT7Uj2OoQsu"
      },
      "source": [
        "import math"
      ],
      "execution_count": null,
      "outputs": []
    },
    {
      "cell_type": "code",
      "metadata": {
        "colab": {
          "base_uri": "https://localhost:8080/",
          "height": 285
        },
        "id": "eYxFK8wmoTHs",
        "outputId": "d1210dee-8d1e-4d8d-f7dd-bb758c046e20"
      },
      "source": [
        "graph = prediction.head(30)\n",
        "graph.plot(kind='bar')"
      ],
      "execution_count": null,
      "outputs": [
        {
          "output_type": "execute_result",
          "data": {
            "text/plain": [
              "<matplotlib.axes._subplots.AxesSubplot at 0x7efe9da73050>"
            ]
          },
          "metadata": {
            "tags": []
          },
          "execution_count": 83
        },
        {
          "output_type": "display_data",
          "data": {
            "image/png": "[encoded data removed]",
            "text/plain": [
              "<Figure size 432x288 with 1 Axes>"
            ]
          },
          "metadata": {
            "tags": [],
            "needs_background": "light"
          }
        }
      ]
    },
    {
      "cell_type": "markdown",
      "metadata": {
        "id": "MD7L2cWO5dRh"
      },
      "source": [
        "**SVM**"
      ]
    },
    {
      "cell_type": "code",
      "metadata": {
        "colab": {
          "base_uri": "https://localhost:8080/"
        },
        "id": "Q_0FGHCVYwKq",
        "outputId": "dbfb223a-21a9-4ef1-fb6a-446b55812158"
      },
      "source": [
        "from sklearn.svm import SVR\n",
        "model= SVR()\n",
        "model.fit(xtrain, ytrain)"
      ],
      "execution_count": null,
      "outputs": [
        {
          "output_type": "execute_result",
          "data": {
            "text/plain": [
              "SVR(C=1.0, cache_size=200, coef0=0.0, degree=3, epsilon=0.1, gamma='scale',\n",
              "    kernel='rbf', max_iter=-1, shrinking=True, tol=0.001, verbose=False)"
            ]
          },
          "metadata": {
            "tags": []
          },
          "execution_count": 84
        }
      ]
    },
    {
      "cell_type": "code",
      "metadata": {
        "colab": {
          "base_uri": "https://localhost:8080/",
          "height": 204
        },
        "id": "oRspJqaEZEFd",
        "outputId": "6b718d1c-6571-4127-d1ef-84132fa3a514"
      },
      "source": [
        "ypred=model.predict(xtest)\n",
        "prediction=pd.DataFrame({'original value ': ytest.flatten(),'Predicted value' : ypred.flatten()})\n",
        "prediction.head()"
      ],
      "execution_count": null,
      "outputs": [
        {
          "output_type": "execute_result",
          "data": {
            "text/html": [
              "<div>\n",
              "<style scoped>\n",
              "    .dataframe tbody tr th:only-of-type {\n",
              "        vertical-align: middle;\n",
              "    }\n",
              "\n",
              "    .dataframe tbody tr th {\n",
              "        vertical-align: top;\n",
              "    }\n",
              "\n",
              "    .dataframe thead th {\n",
              "        text-align: right;\n",
              "    }\n",
              "</style>\n",
              "<table border=\"1\" class=\"dataframe\">\n",
              "  <thead>\n",
              "    <tr style=\"text-align: right;\">\n",
              "      <th></th>\n",
              "      <th>original value</th>\n",
              "      <th>Predicted value</th>\n",
              "    </tr>\n",
              "  </thead>\n",
              "  <tbody>\n",
              "    <tr>\n",
              "      <th>0</th>\n",
              "      <td>51.950001</td>\n",
              "      <td>57.291278</td>\n",
              "    </tr>\n",
              "    <tr>\n",
              "      <th>1</th>\n",
              "      <td>126.846001</td>\n",
              "      <td>59.052480</td>\n",
              "    </tr>\n",
              "    <tr>\n",
              "      <th>2</th>\n",
              "      <td>66.737999</td>\n",
              "      <td>58.419509</td>\n",
              "    </tr>\n",
              "    <tr>\n",
              "      <th>3</th>\n",
              "      <td>43.549999</td>\n",
              "      <td>26.193741</td>\n",
              "    </tr>\n",
              "    <tr>\n",
              "      <th>4</th>\n",
              "      <td>20.298000</td>\n",
              "      <td>58.365811</td>\n",
              "    </tr>\n",
              "  </tbody>\n",
              "</table>\n",
              "</div>"
            ],
            "text/plain": [
              "   original value   Predicted value\n",
              "0        51.950001        57.291278\n",
              "1       126.846001        59.052480\n",
              "2        66.737999        58.419509\n",
              "3        43.549999        26.193741\n",
              "4        20.298000        58.365811"
            ]
          },
          "metadata": {
            "tags": []
          },
          "execution_count": 85
        }
      ]
    },
    {
      "cell_type": "code",
      "metadata": {
        "colab": {
          "base_uri": "https://localhost:8080/",
          "height": 285
        },
        "id": "fijQWc0Nrc05",
        "outputId": "110edeaf-7468-4e18-fb26-7397e7f0fe08"
      },
      "source": [
        "graph = prediction.head(15)\n",
        "graph.plot(kind='bar')"
      ],
      "execution_count": null,
      "outputs": [
        {
          "output_type": "execute_result",
          "data": {
            "text/plain": [
              "<matplotlib.axes._subplots.AxesSubplot at 0x7efe9d964910>"
            ]
          },
          "metadata": {
            "tags": []
          },
          "execution_count": 86
        },
        {
          "output_type": "display_data",
          "data": {
            "image/png": "[encoded data removed]",
            "text/plain": [
              "<Figure size 432x288 with 1 Axes>"
            ]
          },
          "metadata": {
            "tags": [],
            "needs_background": "light"
          }
        }
      ]
    },
    {
      "cell_type": "markdown",
      "metadata": {
        "id": "kOn5W0Vr5Vse"
      },
      "source": [
        "**Decision** **Tree**"
      ]
    },
    {
      "cell_type": "code",
      "metadata": {
        "colab": {
          "base_uri": "https://localhost:8080/"
        },
        "id": "Qai9DkQLZXtn",
        "outputId": "f16674e6-2b57-442e-a5b6-0b5df92c5e08"
      },
      "source": [
        "from sklearn.tree import DecisionTreeRegressor\n",
        "model= DecisionTreeRegressor()\n",
        "model.fit(xtrain, ytrain)"
      ],
      "execution_count": null,
      "outputs": [
        {
          "output_type": "execute_result",
          "data": {
            "text/plain": [
              "DecisionTreeRegressor(ccp_alpha=0.0, criterion='mse', max_depth=None,\n",
              "                      max_features=None, max_leaf_nodes=None,\n",
              "                      min_impurity_decrease=0.0, min_impurity_split=None,\n",
              "                      min_samples_leaf=1, min_samples_split=2,\n",
              "                      min_weight_fraction_leaf=0.0, presort='deprecated',\n",
              "                      random_state=None, splitter='best')"
            ]
          },
          "metadata": {
            "tags": []
          },
          "execution_count": 87
        }
      ]
    },
    {
      "cell_type": "code",
      "metadata": {
        "colab": {
          "base_uri": "https://localhost:8080/",
          "height": 204
        },
        "id": "uU9R8jOwZg3u",
        "outputId": "23915ef1-6ad6-4cf7-8845-4b38849650aa"
      },
      "source": [
        "ypred=model.predict(xtest)\n",
        "prediction=pd.DataFrame({'original value ': ytest.flatten(),'Predicted value' : ypred.flatten()})\n",
        "prediction.head()"
      ],
      "execution_count": null,
      "outputs": [
        {
          "output_type": "execute_result",
          "data": {
            "text/html": [
              "<div>\n",
              "<style scoped>\n",
              "    .dataframe tbody tr th:only-of-type {\n",
              "        vertical-align: middle;\n",
              "    }\n",
              "\n",
              "    .dataframe tbody tr th {\n",
              "        vertical-align: top;\n",
              "    }\n",
              "\n",
              "    .dataframe thead th {\n",
              "        text-align: right;\n",
              "    }\n",
              "</style>\n",
              "<table border=\"1\" class=\"dataframe\">\n",
              "  <thead>\n",
              "    <tr style=\"text-align: right;\">\n",
              "      <th></th>\n",
              "      <th>original value</th>\n",
              "      <th>Predicted value</th>\n",
              "    </tr>\n",
              "  </thead>\n",
              "  <tbody>\n",
              "    <tr>\n",
              "      <th>0</th>\n",
              "      <td>51.950001</td>\n",
              "      <td>52.632000</td>\n",
              "    </tr>\n",
              "    <tr>\n",
              "      <th>1</th>\n",
              "      <td>126.846001</td>\n",
              "      <td>130.113998</td>\n",
              "    </tr>\n",
              "    <tr>\n",
              "      <th>2</th>\n",
              "      <td>66.737999</td>\n",
              "      <td>66.601997</td>\n",
              "    </tr>\n",
              "    <tr>\n",
              "      <th>3</th>\n",
              "      <td>43.549999</td>\n",
              "      <td>43.816002</td>\n",
              "    </tr>\n",
              "    <tr>\n",
              "      <th>4</th>\n",
              "      <td>20.298000</td>\n",
              "      <td>19.546000</td>\n",
              "    </tr>\n",
              "  </tbody>\n",
              "</table>\n",
              "</div>"
            ],
            "text/plain": [
              "   original value   Predicted value\n",
              "0        51.950001        52.632000\n",
              "1       126.846001       130.113998\n",
              "2        66.737999        66.601997\n",
              "3        43.549999        43.816002\n",
              "4        20.298000        19.546000"
            ]
          },
          "metadata": {
            "tags": []
          },
          "execution_count": 88
        }
      ]
    },
    {
      "cell_type": "code",
      "metadata": {
        "colab": {
          "base_uri": "https://localhost:8080/",
          "height": 285
        },
        "id": "VDgCmr8irhRx",
        "outputId": "9bd87a2a-27bf-46d2-b8c8-84eb92f54fdf"
      },
      "source": [
        "graph = prediction.head(20)\n",
        "graph.plot(kind='bar')"
      ],
      "execution_count": null,
      "outputs": [
        {
          "output_type": "execute_result",
          "data": {
            "text/plain": [
              "<matplotlib.axes._subplots.AxesSubplot at 0x7efe9db76390>"
            ]
          },
          "metadata": {
            "tags": []
          },
          "execution_count": 89
        },
        {
          "output_type": "display_data",
          "data": {
            "image/png": "[encoded data removed]",
            "text/plain": [
              "<Figure size 432x288 with 1 Axes>"
            ]
          },
          "metadata": {
            "tags": [],
            "needs_background": "light"
          }
        }
      ]
    },
    {
      "cell_type": "markdown",
      "metadata": {
        "id": "yv4RvtaW5KlO"
      },
      "source": [
        "**Evaluating model**"
      ]
    },
    {
      "cell_type": "code",
      "metadata": {
        "id": "HpQHDz1F4Cgs"
      },
      "source": [
        "from sklearn.metrics import mean_squared_error\n",
        "mse = mean_squared_error(ytest, ypred)\n",
        "rmse = np.sqrt(mse)"
      ],
      "execution_count": null,
      "outputs": []
    },
    {
      "cell_type": "code",
      "metadata": {
        "colab": {
          "base_uri": "https://localhost:8080/"
        },
        "id": "pPFcSgh94ia7",
        "outputId": "b0b7fea9-cf81-40bf-e274-eeb5d895d764"
      },
      "source": [
        "rmse"
      ],
      "execution_count": null,
      "outputs": [
        {
          "output_type": "execute_result",
          "data": {
            "text/plain": [
              "4.823457576115431"
            ]
          },
          "metadata": {
            "tags": []
          },
          "execution_count": 94
        }
      ]
    },
    {
      "cell_type": "code",
      "metadata": {
        "colab": {
          "base_uri": "https://localhost:8080/"
        },
        "id": "XiYzTbVa4mLc",
        "outputId": "dcf4c2c9-d2ab-486a-d409-229f682c503b"
      },
      "source": [
        "mse"
      ],
      "execution_count": null,
      "outputs": [
        {
          "output_type": "execute_result",
          "data": {
            "text/plain": [
              "23.265742988585348"
            ]
          },
          "metadata": {
            "tags": []
          },
          "execution_count": 95
        }
      ]
    }
  ]
}